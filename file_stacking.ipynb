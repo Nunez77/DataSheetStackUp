{
 "cells": [
  {
   "cell_type": "markdown",
   "metadata": {
    "id": "qb2SrIvAG03y"
   },
   "source": [
    " # Mount your google drive first: \n",
    "    * You can click on mount drive which is present in colab or \n",
    "    * You can run the below cell which will mount the drive."
   ]
  },
  {
   "cell_type": "code",
   "execution_count": 3,
   "metadata": {
    "colab": {
     "base_uri": "https://localhost:8080/"
    },
    "id": "_4llloqdHDeL",
    "outputId": "0b7aa24c-d205-4c3d-8248-82087c99c4a0"
   },
   "outputs": [
    {
     "ename": "ModuleNotFoundError",
     "evalue": "No module named 'google.colab'",
     "output_type": "error",
     "traceback": [
      "\u001b[1;31m---------------------------------------------------------------------------\u001b[0m",
      "\u001b[1;31mModuleNotFoundError\u001b[0m                       Traceback (most recent call last)",
      "\u001b[1;32m<ipython-input-3-d5df0069828e>\u001b[0m in \u001b[0;36m<module>\u001b[1;34m\u001b[0m\n\u001b[1;32m----> 1\u001b[1;33m \u001b[1;32mfrom\u001b[0m \u001b[0mgoogle\u001b[0m\u001b[1;33m.\u001b[0m\u001b[0mcolab\u001b[0m \u001b[1;32mimport\u001b[0m \u001b[0mdrive\u001b[0m\u001b[1;33m\u001b[0m\u001b[1;33m\u001b[0m\u001b[0m\n\u001b[0m\u001b[0;32m      2\u001b[0m \u001b[0mdrive\u001b[0m\u001b[1;33m.\u001b[0m\u001b[0mmount\u001b[0m\u001b[1;33m(\u001b[0m\u001b[1;34m'/content/drive'\u001b[0m\u001b[1;33m)\u001b[0m\u001b[1;33m\u001b[0m\u001b[1;33m\u001b[0m\u001b[0m\n",
      "\u001b[1;31mModuleNotFoundError\u001b[0m: No module named 'google.colab'"
     ]
    }
   ],
   "source": [
    "from google.colab import drive\n",
    "drive.mount('/content/drive')"
   ]
  },
  {
   "cell_type": "code",
   "execution_count": null,
   "metadata": {
    "colab": {
     "base_uri": "https://localhost:8080/"
    },
    "id": "3HF-nLDYGTG1",
    "outputId": "2b18c0f6-6a96-442b-8168-b059091c896f"
   },
   "outputs": [],
   "source": [
    "#navigate to the folder where your team folders are present\n",
    "%cd drive/MyDrive/EXCEL\n"
   ]
  },
  {
   "cell_type": "code",
   "execution_count": null,
   "metadata": {
    "id": "fAQ6Tf_womfw"
   },
   "outputs": [],
   "source": [
    "#run this cell to link to the google and acess files\n",
    "from google.colab import auth\n",
    "auth.authenticate_user()\n",
    "\n",
    "import gspread\n",
    "from oauth2client.client import GoogleCredentials\n",
    "\n",
    "gc = gspread.authorize(GoogleCredentials.get_application_default())"
   ]
  },
  {
   "cell_type": "markdown",
   "metadata": {
    "id": "JMQ4JqpjIpBv"
   },
   "source": [
    "In the below cell give the team folder names in the list (variable names folders).If you run this cell it will iterate through the folders,In the folders it will iterate through the file names and create two files.One file with stacking all the first sheets info column wise of each file.Other file is with all rows of each file stacked row wise with extra two columns of corresponding file name and folder name. "
   ]
  },
  {
   "cell_type": "code",
   "execution_count": null,
   "metadata": {
    "id": "pqFkdeZ4pWvB"
   },
   "outputs": [],
   "source": [
    "import os\n",
    "import pandas as pd\n",
    "\n",
    "folders = ['1','2','3']  # enter your three folder names in the list to iterate over the folders.\n",
    "\n",
    "final_df = pd.DataFrame([])\n",
    "final_df_extra_columns = pd.DataFrame([])\n",
    "for folder_name in folders:\n",
    "  file_names = os.listdir(folder_name)\n",
    "  for file_name in file_names:\n",
    "    worksheet = gc.open(file_name[:-7]).sheet1\n",
    "    rows = worksheet.get_all_values()\n",
    "    temp_df = pd.DataFrame.from_records(rows)\n",
    "    li_file_names = [file_name]\n",
    "    li_file_names = li_file_names*(temp_df.shape[0])\n",
    "    li_folder_names = [folder_name]\n",
    "    li_folder_names = li_folder_names*(temp_df.shape[0])\n",
    "    temp_df_extra_columns =pd.concat([temp_df,pd.DataFrame(li_file_names),pd.DataFrame(li_folder_names)],axis=1)\n",
    "    final_df = pd.concat([final_df,temp_df],axis=1)\n",
    "    final_df_extra_columns=pd.concat([final_df_extra_columns,temp_df_extra_columns],axis=0)\n",
    "\n",
    "final_df.to_csv('single_sheet.csv',index = False)    \n",
    "final_df_extra_columns.to_csv('single_sheet_with_extra_columns.csv',index = False)\n",
    "  \n"
   ]
  }
 ],
 "metadata": {
  "colab": {
   "name": "file_stacking.ipynb",
   "provenance": []
  },
  "kernelspec": {
   "display_name": "Python 3",
   "language": "python",
   "name": "python3"
  },
  "language_info": {
   "codemirror_mode": {
    "name": "ipython",
    "version": 3
   },
   "file_extension": ".py",
   "mimetype": "text/x-python",
   "name": "python",
   "nbconvert_exporter": "python",
   "pygments_lexer": "ipython3",
   "version": "3.8.5"
  }
 },
 "nbformat": 4,
 "nbformat_minor": 1
}
