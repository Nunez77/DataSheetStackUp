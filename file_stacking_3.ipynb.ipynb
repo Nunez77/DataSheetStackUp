{
  "nbformat": 4,
  "nbformat_minor": 0,
  "metadata": {
    "colab": {
      "name": "file_stacking_2.ipynb",
      "provenance": []
    },
    "kernelspec": {
      "name": "python3",
      "display_name": "Python 3"
    },
    "language_info": {
      "name": "python"
    }
  },
  "cells": [
    {
      "cell_type": "code",
      "metadata": {
        "id": "fAQ6Tf_womfw"
      },
      "source": [
        "#run this cell to link to the google and acess files\n",
        "from google.colab import auth\n",
        "auth.authenticate_user()\n",
        "\n",
        "import gspread\n",
        "from oauth2client.client import GoogleCredentials\n",
        "\n",
        "gc = gspread.authorize(GoogleCredentials.get_application_default())"
      ],
      "execution_count": 2,
      "outputs": []
    },
    {
      "cell_type": "code",
      "metadata": {
        "colab": {
          "base_uri": "https://localhost:8080/"
        },
        "id": "pbWiJrAE9yvD",
        "outputId": "e55dcaaa-d21a-4a86-fee9-21cd140928ff"
      },
      "source": [
        "#mounting google drive\n",
        "from google.colab import drive\n",
        "drive.mount('/content/drive')"
      ],
      "execution_count": 3,
      "outputs": [
        {
          "output_type": "stream",
          "text": [
            "Mounted at /content/drive\n"
          ],
          "name": "stdout"
        }
      ]
    },
    {
      "cell_type": "code",
      "metadata": {
        "colab": {
          "base_uri": "https://localhost:8080/"
        },
        "id": "K_RuGKzp9z8G",
        "outputId": "3fa6f251-cbad-4914-8578-28e84e87f01c"
      },
      "source": [
        "#navigate to the drive or directory in drive to save the output file.\n",
        "%cd drive/MyDrive"
      ],
      "execution_count": 4,
      "outputs": [
        {
          "output_type": "stream",
          "text": [
            "/content/drive/MyDrive\n"
          ],
          "name": "stdout"
        }
      ]
    },
    {
      "cell_type": "code",
      "metadata": {
        "id": "e495MEDi7-Wj"
      },
      "source": [
        "# creating a list of all file ids and corresponding folder names and file names.\n",
        "file_ids = ['1-InSsTWFPNryCiwLIfoqlDNE_Q__WbRDoB7YFr7pv9c','1b4EITSgElTGDzvkflKujeQGaeUKMQPBeIzNuz145aiY','1HP_DJqjKnHxIFN2ipEmxeSZpNVvohTMQUTcOF4fKmqE',\n",
        "            '1LRSVBZtJylR-WOIi4MK-r8KoVhg3eP7hS-4vYWcH5fI','1mc1fvjYtQcy96cQY8d7Z3y2qYBpuofLjCzf-uehjftk','1hFHPooKiW-J-Gv8IMJnHsLpDRLwQKzyFTgkc5PGPDNU'\n",
        "            ]\n",
        "folder_names=['1','1','2','2','3','3']\n",
        "\n",
        "file_names = ['1','2','3','4','5','6']\n",
        "\n"
      ],
      "execution_count": 5,
      "outputs": []
    },
    {
      "cell_type": "markdown",
      "metadata": {
        "id": "JMQ4JqpjIpBv"
      },
      "source": [
        "In the below cell give the team folder names in the list (variable names folders).If you run this cell it will iterate through the folders,In the folders it will iterate through the file names and create two files.One file with stacking all the first sheets info column wise of each file.Other file is with all rows of each file stacked row wise with extra two columns of corresponding file name and folder name. "
      ]
    },
    {
      "cell_type": "code",
      "metadata": {
        "id": "kiSNcHJqEim4"
      },
      "source": [
        "# files reading with id and storing in csv file.\n",
        "import os\n",
        "import pandas as pd\n",
        "\n",
        "final_df = pd.DataFrame([])\n",
        "final_df_extra_columns = pd.DataFrame([])\n",
        "\n",
        "num_files = len(file_ids)\n",
        "for ind in range(num_files):\n",
        "    sheet_id = file_ids[ind]\n",
        "    file_name = file_names[ind]\n",
        "    folder_name = folder_names[ind]\n",
        "    worksheet = gc.open_by_url(f\"https://docs.google.com/spreadsheets/d/{sheet_id}\").sheet1\n",
        "    rows = worksheet.get_all_values()\n",
        "    temp_df = pd.DataFrame.from_records(rows)\n",
        "    li_file_names = [file_name]\n",
        "    li_file_names = li_file_names*(temp_df.shape[0])\n",
        "    li_folder_names = [folder_name]\n",
        "    li_folder_names = li_folder_names*(temp_df.shape[0])\n",
        "    temp_df_extra_columns =pd.concat([temp_df,pd.DataFrame(li_file_names),pd.DataFrame(li_folder_names)],axis=1)\n",
        "    final_df = pd.concat([final_df,temp_df],axis=1)\n",
        "    final_df_extra_columns=pd.concat([final_df_extra_columns,temp_df_extra_columns],axis=0)\n",
        "\n",
        "#the path also can be changed to some other folder in the drive ,here it is saved in the current directory.\n",
        "final_df.to_csv('single_sheet.csv',index = False)    \n",
        "final_df_extra_columns.to_csv('single_sheet_with_extra_columns.csv',index = False)\n",
        "  \n",
        "\n"
      ],
      "execution_count": 6,
      "outputs": []
    },
    {
      "cell_type": "code",
      "metadata": {
        "colab": {
          "base_uri": "https://localhost:8080/",
          "height": 175
        },
        "id": "9_62Cn1oVqCx",
        "outputId": "aa20364e-f7f8-4492-9a7b-05ff5b645a5d"
      },
      "source": [
        "final_df"
      ],
      "execution_count": null,
      "outputs": [
        {
          "output_type": "execute_result",
          "data": {
            "text/html": [
              "<div>\n",
              "<style scoped>\n",
              "    .dataframe tbody tr th:only-of-type {\n",
              "        vertical-align: middle;\n",
              "    }\n",
              "\n",
              "    .dataframe tbody tr th {\n",
              "        vertical-align: top;\n",
              "    }\n",
              "\n",
              "    .dataframe thead th {\n",
              "        text-align: right;\n",
              "    }\n",
              "</style>\n",
              "<table border=\"1\" class=\"dataframe\">\n",
              "  <thead>\n",
              "    <tr style=\"text-align: right;\">\n",
              "      <th></th>\n",
              "      <th>0</th>\n",
              "      <th>0</th>\n",
              "      <th>0</th>\n",
              "      <th>0</th>\n",
              "      <th>0</th>\n",
              "      <th>0</th>\n",
              "    </tr>\n",
              "  </thead>\n",
              "  <tbody>\n",
              "    <tr>\n",
              "      <th>0</th>\n",
              "      <td>1</td>\n",
              "      <td>21</td>\n",
              "      <td>31</td>\n",
              "      <td>41</td>\n",
              "      <td>51</td>\n",
              "      <td>61</td>\n",
              "    </tr>\n",
              "    <tr>\n",
              "      <th>1</th>\n",
              "      <td>2</td>\n",
              "      <td>22</td>\n",
              "      <td>32</td>\n",
              "      <td>42</td>\n",
              "      <td>52</td>\n",
              "      <td>62</td>\n",
              "    </tr>\n",
              "    <tr>\n",
              "      <th>2</th>\n",
              "      <td>3</td>\n",
              "      <td>23</td>\n",
              "      <td>33</td>\n",
              "      <td>43</td>\n",
              "      <td>53</td>\n",
              "      <td>63</td>\n",
              "    </tr>\n",
              "    <tr>\n",
              "      <th>3</th>\n",
              "      <td>4</td>\n",
              "      <td>24</td>\n",
              "      <td>34</td>\n",
              "      <td>44</td>\n",
              "      <td>54</td>\n",
              "      <td>64</td>\n",
              "    </tr>\n",
              "  </tbody>\n",
              "</table>\n",
              "</div>"
            ],
            "text/plain": [
              "   0   0   0   0   0   0\n",
              "0  1  21  31  41  51  61\n",
              "1  2  22  32  42  52  62\n",
              "2  3  23  33  43  53  63\n",
              "3  4  24  34  44  54  64"
            ]
          },
          "metadata": {
            "tags": []
          },
          "execution_count": 4
        }
      ]
    },
    {
      "cell_type": "code",
      "metadata": {
        "colab": {
          "base_uri": "https://localhost:8080/",
          "height": 802
        },
        "id": "wA3OurriF5QQ",
        "outputId": "c8448d6a-4f6b-4e55-94f3-7ab3f4067943"
      },
      "source": [
        "final_df_extra_columns "
      ],
      "execution_count": null,
      "outputs": [
        {
          "output_type": "execute_result",
          "data": {
            "text/html": [
              "<div>\n",
              "<style scoped>\n",
              "    .dataframe tbody tr th:only-of-type {\n",
              "        vertical-align: middle;\n",
              "    }\n",
              "\n",
              "    .dataframe tbody tr th {\n",
              "        vertical-align: top;\n",
              "    }\n",
              "\n",
              "    .dataframe thead th {\n",
              "        text-align: right;\n",
              "    }\n",
              "</style>\n",
              "<table border=\"1\" class=\"dataframe\">\n",
              "  <thead>\n",
              "    <tr style=\"text-align: right;\">\n",
              "      <th></th>\n",
              "      <th>0</th>\n",
              "      <th>0</th>\n",
              "      <th>0</th>\n",
              "    </tr>\n",
              "  </thead>\n",
              "  <tbody>\n",
              "    <tr>\n",
              "      <th>0</th>\n",
              "      <td>1</td>\n",
              "      <td>1</td>\n",
              "      <td>1</td>\n",
              "    </tr>\n",
              "    <tr>\n",
              "      <th>1</th>\n",
              "      <td>2</td>\n",
              "      <td>1</td>\n",
              "      <td>1</td>\n",
              "    </tr>\n",
              "    <tr>\n",
              "      <th>2</th>\n",
              "      <td>3</td>\n",
              "      <td>1</td>\n",
              "      <td>1</td>\n",
              "    </tr>\n",
              "    <tr>\n",
              "      <th>3</th>\n",
              "      <td>4</td>\n",
              "      <td>1</td>\n",
              "      <td>1</td>\n",
              "    </tr>\n",
              "    <tr>\n",
              "      <th>0</th>\n",
              "      <td>21</td>\n",
              "      <td>2</td>\n",
              "      <td>1</td>\n",
              "    </tr>\n",
              "    <tr>\n",
              "      <th>1</th>\n",
              "      <td>22</td>\n",
              "      <td>2</td>\n",
              "      <td>1</td>\n",
              "    </tr>\n",
              "    <tr>\n",
              "      <th>2</th>\n",
              "      <td>23</td>\n",
              "      <td>2</td>\n",
              "      <td>1</td>\n",
              "    </tr>\n",
              "    <tr>\n",
              "      <th>3</th>\n",
              "      <td>24</td>\n",
              "      <td>2</td>\n",
              "      <td>1</td>\n",
              "    </tr>\n",
              "    <tr>\n",
              "      <th>0</th>\n",
              "      <td>31</td>\n",
              "      <td>3</td>\n",
              "      <td>2</td>\n",
              "    </tr>\n",
              "    <tr>\n",
              "      <th>1</th>\n",
              "      <td>32</td>\n",
              "      <td>3</td>\n",
              "      <td>2</td>\n",
              "    </tr>\n",
              "    <tr>\n",
              "      <th>2</th>\n",
              "      <td>33</td>\n",
              "      <td>3</td>\n",
              "      <td>2</td>\n",
              "    </tr>\n",
              "    <tr>\n",
              "      <th>3</th>\n",
              "      <td>34</td>\n",
              "      <td>3</td>\n",
              "      <td>2</td>\n",
              "    </tr>\n",
              "    <tr>\n",
              "      <th>0</th>\n",
              "      <td>41</td>\n",
              "      <td>4</td>\n",
              "      <td>2</td>\n",
              "    </tr>\n",
              "    <tr>\n",
              "      <th>1</th>\n",
              "      <td>42</td>\n",
              "      <td>4</td>\n",
              "      <td>2</td>\n",
              "    </tr>\n",
              "    <tr>\n",
              "      <th>2</th>\n",
              "      <td>43</td>\n",
              "      <td>4</td>\n",
              "      <td>2</td>\n",
              "    </tr>\n",
              "    <tr>\n",
              "      <th>3</th>\n",
              "      <td>44</td>\n",
              "      <td>4</td>\n",
              "      <td>2</td>\n",
              "    </tr>\n",
              "    <tr>\n",
              "      <th>0</th>\n",
              "      <td>51</td>\n",
              "      <td>5</td>\n",
              "      <td>3</td>\n",
              "    </tr>\n",
              "    <tr>\n",
              "      <th>1</th>\n",
              "      <td>52</td>\n",
              "      <td>5</td>\n",
              "      <td>3</td>\n",
              "    </tr>\n",
              "    <tr>\n",
              "      <th>2</th>\n",
              "      <td>53</td>\n",
              "      <td>5</td>\n",
              "      <td>3</td>\n",
              "    </tr>\n",
              "    <tr>\n",
              "      <th>3</th>\n",
              "      <td>54</td>\n",
              "      <td>5</td>\n",
              "      <td>3</td>\n",
              "    </tr>\n",
              "    <tr>\n",
              "      <th>0</th>\n",
              "      <td>61</td>\n",
              "      <td>6</td>\n",
              "      <td>3</td>\n",
              "    </tr>\n",
              "    <tr>\n",
              "      <th>1</th>\n",
              "      <td>62</td>\n",
              "      <td>6</td>\n",
              "      <td>3</td>\n",
              "    </tr>\n",
              "    <tr>\n",
              "      <th>2</th>\n",
              "      <td>63</td>\n",
              "      <td>6</td>\n",
              "      <td>3</td>\n",
              "    </tr>\n",
              "    <tr>\n",
              "      <th>3</th>\n",
              "      <td>64</td>\n",
              "      <td>6</td>\n",
              "      <td>3</td>\n",
              "    </tr>\n",
              "  </tbody>\n",
              "</table>\n",
              "</div>"
            ],
            "text/plain": [
              "    0  0  0\n",
              "0   1  1  1\n",
              "1   2  1  1\n",
              "2   3  1  1\n",
              "3   4  1  1\n",
              "0  21  2  1\n",
              "1  22  2  1\n",
              "2  23  2  1\n",
              "3  24  2  1\n",
              "0  31  3  2\n",
              "1  32  3  2\n",
              "2  33  3  2\n",
              "3  34  3  2\n",
              "0  41  4  2\n",
              "1  42  4  2\n",
              "2  43  4  2\n",
              "3  44  4  2\n",
              "0  51  5  3\n",
              "1  52  5  3\n",
              "2  53  5  3\n",
              "3  54  5  3\n",
              "0  61  6  3\n",
              "1  62  6  3\n",
              "2  63  6  3\n",
              "3  64  6  3"
            ]
          },
          "metadata": {
            "tags": []
          },
          "execution_count": 6
        }
      ]
    },
    {
      "cell_type": "code",
      "metadata": {
        "id": "brHTbwrqF8If"
      },
      "source": [
        ""
      ],
      "execution_count": null,
      "outputs": []
    }
  ]
}